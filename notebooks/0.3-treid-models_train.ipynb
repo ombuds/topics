{
 "cells": [
  {
   "cell_type": "markdown",
   "metadata": {},
   "source": [
    "# Train and save text classification model\n",
    "\n",
    "### Import modules"
   ]
  },
  {
   "cell_type": "code",
   "execution_count": 8,
   "metadata": {},
   "outputs": [],
   "source": [
    "import src.data.make_dataset as make_dataset\n",
    "import logging\n",
    "\n",
    "logger = logging.getLogger()\n",
    "logger.setLevel(logging.INFO)"
   ]
  },
  {
   "cell_type": "markdown",
   "metadata": {},
   "source": [
    "### Load and process raw data files"
   ]
  },
  {
   "cell_type": "code",
   "execution_count": 2,
   "metadata": {},
   "outputs": [
    {
     "output_type": "stream",
     "name": "stderr",
     "text": "INFO:root:Number of training samples:    3543746\nINFO:root:Number of test     samples:     151860\nINFO:root:Completed data shuffling.\nINFO:root:Completed categories list.\n"
    }
   ],
   "source": [
    "train_data, valid_data, classes = make_dataset.load_data(\"../data/raw/\")"
   ]
  },
  {
   "cell_type": "markdown",
   "metadata": {},
   "source": [
    "### Load preprocessed data files"
   ]
  },
  {
   "cell_type": "code",
   "execution_count": 11,
   "metadata": {},
   "outputs": [],
   "source": [
    "train_data, valid_data, classes = make_dataset.load_processed(\"../data/processed/\")"
   ]
  },
  {
   "cell_type": "markdown",
   "metadata": {},
   "source": [
    "Print a data sample with its labels."
   ]
  },
  {
   "cell_type": "code",
   "execution_count": 10,
   "metadata": {},
   "outputs": [
    {
     "output_type": "execute_result",
     "data": {
      "text/plain": "('Hypocalcimia after thydroidectomy - Want new management?',\n {'Society & Culture': False,\n  'Science & Mathematics': False,\n  'Health': True,\n  'Education & Reference': False,\n  'Computers & Internet': False,\n  'Sports': False,\n  'Business & Finance': False,\n  'Entertainment & Music': False,\n  'Family & Relationships': False,\n  'Politics & Government': False})"
     },
     "metadata": {},
     "execution_count": 10
    }
   ],
   "source": [
    "train_data[0][15431],train_data[1][15431]"
   ]
  },
  {
   "cell_type": "markdown",
   "metadata": {},
   "source": [
    "### Model training"
   ]
  },
  {
   "cell_type": "code",
   "execution_count": 11,
   "metadata": {},
   "outputs": [
    {
     "output_type": "stream",
     "name": "stdout",
     "text": "Loading Yahoo! Q&A data...\nLoaded model 'en_core_web_sm'\nUsing 2000 examples (2000 training, 5000 evaluation)\nTraining the model...\nLOSS \t  P  \t  R  \t  F  \n20.005\t0.545\t0.020\t0.039\n5.555\t0.538\t0.044\t0.082\n1.986\t0.459\t0.108\t0.175\n0.736\t0.420\t0.172\t0.245\n0.306\t0.408\t0.220\t0.286\n0.143\t0.391\t0.247\t0.303\n0.071\t0.381\t0.265\t0.313\n0.045\t0.370\t0.273\t0.314\n0.021\t0.364\t0.281\t0.317\n0.011\t0.359\t0.285\t0.318\n0.007\t0.355\t0.289\t0.319\n0.005\t0.353\t0.295\t0.321\n0.003\t0.351\t0.296\t0.321\n0.005\t0.349\t0.299\t0.322\n0.002\t0.345\t0.297\t0.319\n0.002\t0.345\t0.301\t0.321\n0.002\t0.347\t0.305\t0.324\n0.002\t0.349\t0.308\t0.327\n0.001\t0.348\t0.309\t0.327\n0.001\t0.343\t0.305\t0.323\nThis movie sucked {'Society & Culture': 3.4277999105825074e-08, 'Science & Mathematics': 1.4359703476209823e-13, 'Health': 7.139125401955937e-11, 'Education & Reference': 4.144410979324716e-16, 'Computers & Internet': 1.8301327120440192e-10, 'Sports': 5.0861096584364773e-11, 'Business & Finance': 4.719486696558306e-06, 'Entertainment & Music': 0.9999929666519165, 'Family & Relationships': 2.2800886654295027e-06, 'Politics & Government': 1.884132433405128e-11}\nSaved model to models\nLoading from models\nThis movie sucked {'Society & Culture': 4.272363796076206e-08, 'Science & Mathematics': 2.753545872216656e-12, 'Health': 2.725681902404631e-10, 'Education & Reference': 1.0480735067796773e-14, 'Computers & Internet': 1.5108367890093177e-09, 'Sports': 1.1444756253808919e-08, 'Business & Finance': 0.00015294650802388787, 'Entertainment & Music': 0.9998378753662109, 'Family & Relationships': 9.169852091872599e-06, 'Politics & Government': 6.745210640035637e-11}\n"
    }
   ],
   "source": [
    "import src.models.train_model as train_model\n",
    "train_model.train(train_data, valid_data, classes)"
   ]
  },
  {
   "cell_type": "markdown",
   "metadata": {},
   "source": [
    "### Test model loading and prediction"
   ]
  },
  {
   "cell_type": "code",
   "execution_count": 5,
   "metadata": {},
   "outputs": [
    {
     "output_type": "stream",
     "name": "stdout",
     "text": "Loading from ../models/\n\n>Where to go to school.\n"
    },
    {
     "output_type": "execute_result",
     "data": {
      "text/plain": "                        Probability\nEducation & Reference     83.057827\nSports                    16.575634\nBusiness & Finance         0.297126\nEntertainment & Music      0.062902\nComputers & Internet       0.002717\nHealth                     0.001683\nSociety & Culture          0.001140\nScience & Mathematics      0.000558\nPolitics & Government      0.000292\nFamily & Relationships     0.000131",
      "text/html": "<div>\n<style scoped>\n    .dataframe tbody tr th:only-of-type {\n        vertical-align: middle;\n    }\n\n    .dataframe tbody tr th {\n        vertical-align: top;\n    }\n\n    .dataframe thead th {\n        text-align: right;\n    }\n</style>\n<table border=\"1\" class=\"dataframe\">\n  <thead>\n    <tr style=\"text-align: right;\">\n      <th></th>\n      <th>Probability</th>\n    </tr>\n  </thead>\n  <tbody>\n    <tr>\n      <th>Education &amp; Reference</th>\n      <td>83.057827</td>\n    </tr>\n    <tr>\n      <th>Sports</th>\n      <td>16.575634</td>\n    </tr>\n    <tr>\n      <th>Business &amp; Finance</th>\n      <td>0.297126</td>\n    </tr>\n    <tr>\n      <th>Entertainment &amp; Music</th>\n      <td>0.062902</td>\n    </tr>\n    <tr>\n      <th>Computers &amp; Internet</th>\n      <td>0.002717</td>\n    </tr>\n    <tr>\n      <th>Health</th>\n      <td>0.001683</td>\n    </tr>\n    <tr>\n      <th>Society &amp; Culture</th>\n      <td>0.001140</td>\n    </tr>\n    <tr>\n      <th>Science &amp; Mathematics</th>\n      <td>0.000558</td>\n    </tr>\n    <tr>\n      <th>Politics &amp; Government</th>\n      <td>0.000292</td>\n    </tr>\n    <tr>\n      <th>Family &amp; Relationships</th>\n      <td>0.000131</td>\n    </tr>\n  </tbody>\n</table>\n</div>"
     },
     "metadata": {},
     "execution_count": 5
    }
   ],
   "source": [
    "import pandas as pd\n",
    "from src.models.predict_model import load,predict\n",
    "nlp=load(model_dir=\"../models/\")\n",
    "query,cats = predict_model.predict(\"Where to go to school.\",nlp=nlp)\n",
    "print(\"\\n>\"+query)\n",
    "pd.Series(cats,name=\"Probability\").sort_values(ascending=False).to_frame()*100"
   ]
  },
  {
   "cell_type": "markdown",
   "metadata": {},
   "source": [
    "### Evaluate model performance"
   ]
  },
  {
   "cell_type": "code",
   "execution_count": 21,
   "metadata": {},
   "outputs": [
    {
     "output_type": "execute_result",
     "data": {
      "text/plain": "{'textcat_p': 0.36585365849196905,\n 'textcat_r': 0.29999999997,\n 'textcat_f': 0.32967032963410214}"
     },
     "metadata": {},
     "execution_count": 21
    }
   ],
   "source": [
    "from src.models.train_model import evaluate\n",
    "dev_texts, dev_cats = valid_data\n",
    "n=100\n",
    "scores = evaluate(nlp.tokenizer, nlp.get_pipe(\"textcat\"), dev_texts[:n], dev_cats[:n])\n",
    "scores"
   ]
  },
  {
   "cell_type": "code",
   "execution_count": 54,
   "metadata": {},
   "outputs": [
    {
     "output_type": "execute_result",
     "data": {
      "text/plain": "array([[0., 0., 0.],\n       [0., 0., 0.],\n       [0., 0., 0.]])"
     },
     "metadata": {},
     "execution_count": 54
    }
   ],
   "source": []
  },
  {
   "cell_type": "code",
   "execution_count": 72,
   "metadata": {},
   "outputs": [
    {
     "output_type": "execute_result",
     "data": {
      "text/plain": "10"
     },
     "metadata": {},
     "execution_count": 72
    }
   ],
   "source": [
    "len(dev_cats[0])"
   ]
  },
  {
   "cell_type": "code",
   "execution_count": 70,
   "metadata": {
    "tags": [
     "outputPrepend"
    ]
   },
   "outputs": [
    {
     "output_type": "stream",
     "name": "stdout",
     "text": "[[4. 1. 0. 0. 0. 1. 1. 0. 0. 0.]\n [4. 2. 3. 1. 0. 0. 1. 0. 2. 0.]\n [2. 2. 2. 2. 2. 0. 0. 1. 3. 0.]\n [2. 1. 1. 2. 0. 2. 0. 0. 0. 1.]\n [0. 2. 0. 0. 6. 0. 1. 0. 0. 0.]\n [0. 0. 1. 0. 0. 4. 1. 0. 2. 3.]\n [1. 0. 0. 1. 0. 0. 3. 1. 0. 2.]\n [3. 0. 1. 0. 0. 2. 0. 0. 2. 0.]\n [1. 0. 1. 0. 1. 1. 1. 0. 6. 0.]\n [1. 1. 0. 1. 1. 0. 0. 0. 1. 5.]]\n"
    },
    {
     "output_type": "execute_result",
     "data": {
      "text/plain": "(0.3156926406926407, 0.3541111666111666)"
     },
     "metadata": {},
     "execution_count": 70
    }
   ],
   "source": [
    "import numpy as np\n",
    "docs = (nlp.tokenizer(text) for text in dev_texts[:n])\n",
    "\n",
    "confusion_matrix=np.zeros([len(classes),len(classes)])\n",
    "for i, doc in enumerate(nlp.get_pipe(\"textcat\").pipe(docs)):\n",
    "    gold = dev_cats[:n][i]\n",
    "    g=pd.Series(gold,name=\"gold\").argmax()\n",
    "    a=pd.Series(doc.cats,name=\"assigned\").argmax()\n",
    "    confusion_matrix[g,a]+=1\n",
    "print(confusion_matrix)\n",
    "precisions = confusion_matrix.diagonal()/confusion_matrix.sum(axis=0)\n",
    "recalls = confusion_matrix.diagonal()/confusion_matrix.sum(axis=1)\n",
    "precisions.mean(),recalls.mean()"
   ]
  },
  {
   "cell_type": "code",
   "execution_count": null,
   "metadata": {},
   "outputs": [],
   "source": []
  }
 ],
 "metadata": {
  "language_info": {
   "codemirror_mode": {
    "name": "ipython",
    "version": 3
   },
   "file_extension": ".py",
   "mimetype": "text/x-python",
   "name": "python",
   "nbconvert_exporter": "python",
   "pygments_lexer": "ipython3",
   "version": "3.7.7-final"
  },
  "orig_nbformat": 2,
  "kernelspec": {
   "name": "python37764bitspacycondadadf2b73d41940a8a7f37c607b76324d",
   "display_name": "Python 3.7.7 64-bit ('spacy': conda)"
  }
 },
 "nbformat": 4,
 "nbformat_minor": 2
}