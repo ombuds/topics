{
 "cells": [
  {
   "cell_type": "markdown",
   "metadata": {},
   "source": [
    "# Train and save text classification model\n",
    "\n",
    "### Import modules"
   ]
  },
  {
   "cell_type": "code",
   "execution_count": 8,
   "metadata": {},
   "outputs": [],
   "source": [
    "import src.data.make_dataset as make_dataset\n",
    "import logging\n",
    "\n",
    "logger = logging.getLogger()\n",
    "logger.setLevel(logging.INFO)"
   ]
  },
  {
   "cell_type": "markdown",
   "metadata": {},
   "source": [
    "### Load and process raw data files"
   ]
  },
  {
   "cell_type": "code",
   "execution_count": 2,
   "metadata": {},
   "outputs": [
    {
     "name": "stderr",
     "output_type": "stream",
     "text": [
      "INFO:root:Number of training samples:    3543746\n",
      "INFO:root:Number of test     samples:     151860\n",
      "INFO:root:Completed data shuffling.\n",
      "INFO:root:Completed categories list.\n"
     ]
    }
   ],
   "source": [
    "train_data, valid_data, classes = make_dataset.load_data(\"../data/raw/\")"
   ]
  },
  {
   "cell_type": "markdown",
   "metadata": {},
   "source": [
    "### Load preprocessed data files"
   ]
  },
  {
   "cell_type": "code",
   "execution_count": 11,
   "metadata": {},
   "outputs": [],
   "source": [
    "train_data, valid_data, classes = make_dataset.load_processed(\"../data/processed/\")"
   ]
  },
  {
   "cell_type": "markdown",
   "metadata": {},
   "source": [
    "Print a data sample with its labels."
   ]
  },
  {
   "cell_type": "code",
   "execution_count": 10,
   "metadata": {},
   "outputs": [
    {
     "data": {
      "text/plain": [
       "('Hypocalcimia after thydroidectomy - Want new management?',\n",
       " {'Society & Culture': False,\n",
       "  'Science & Mathematics': False,\n",
       "  'Health': True,\n",
       "  'Education & Reference': False,\n",
       "  'Computers & Internet': False,\n",
       "  'Sports': False,\n",
       "  'Business & Finance': False,\n",
       "  'Entertainment & Music': False,\n",
       "  'Family & Relationships': False,\n",
       "  'Politics & Government': False})"
      ]
     },
     "execution_count": 10,
     "metadata": {},
     "output_type": "execute_result"
    }
   ],
   "source": [
    "train_data[0][15431],train_data[1][15431]"
   ]
  },
  {
   "cell_type": "markdown",
   "metadata": {},
   "source": [
    "### Model training"
   ]
  },
  {
   "cell_type": "code",
   "execution_count": 11,
   "metadata": {},
   "outputs": [
    {
     "name": "stdout",
     "output_type": "stream",
     "text": [
      "Loading Yahoo! Q&A data...\n",
      "Loaded model 'en_core_web_sm'\n",
      "Using 2000 examples (2000 training, 5000 evaluation)\n",
      "Training the model...\n",
      "LOSS \t  P  \t  R  \t  F  \n",
      "20.005\t0.545\t0.020\t0.039\n",
      "5.555\t0.538\t0.044\t0.082\n",
      "1.986\t0.459\t0.108\t0.175\n",
      "0.736\t0.420\t0.172\t0.245\n",
      "0.306\t0.408\t0.220\t0.286\n",
      "0.143\t0.391\t0.247\t0.303\n",
      "0.071\t0.381\t0.265\t0.313\n",
      "0.045\t0.370\t0.273\t0.314\n",
      "0.021\t0.364\t0.281\t0.317\n",
      "0.011\t0.359\t0.285\t0.318\n",
      "0.007\t0.355\t0.289\t0.319\n",
      "0.005\t0.353\t0.295\t0.321\n",
      "0.003\t0.351\t0.296\t0.321\n",
      "0.005\t0.349\t0.299\t0.322\n",
      "0.002\t0.345\t0.297\t0.319\n",
      "0.002\t0.345\t0.301\t0.321\n",
      "0.002\t0.347\t0.305\t0.324\n",
      "0.002\t0.349\t0.308\t0.327\n",
      "0.001\t0.348\t0.309\t0.327\n",
      "0.001\t0.343\t0.305\t0.323\n",
      "This movie sucked {'Society & Culture': 3.4277999105825074e-08, 'Science & Mathematics': 1.4359703476209823e-13, 'Health': 7.139125401955937e-11, 'Education & Reference': 4.144410979324716e-16, 'Computers & Internet': 1.8301327120440192e-10, 'Sports': 5.0861096584364773e-11, 'Business & Finance': 4.719486696558306e-06, 'Entertainment & Music': 0.9999929666519165, 'Family & Relationships': 2.2800886654295027e-06, 'Politics & Government': 1.884132433405128e-11}\n",
      "Saved model to models\n",
      "Loading from models\n",
      "This movie sucked {'Society & Culture': 4.272363796076206e-08, 'Science & Mathematics': 2.753545872216656e-12, 'Health': 2.725681902404631e-10, 'Education & Reference': 1.0480735067796773e-14, 'Computers & Internet': 1.5108367890093177e-09, 'Sports': 1.1444756253808919e-08, 'Business & Finance': 0.00015294650802388787, 'Entertainment & Music': 0.9998378753662109, 'Family & Relationships': 9.169852091872599e-06, 'Politics & Government': 6.745210640035637e-11}\n"
     ]
    }
   ],
   "source": [
    "import src.models.train_model as train_model\n",
    "train_model.train(train_data, valid_data, classes)"
   ]
  },
  {
   "cell_type": "markdown",
   "metadata": {},
   "source": [
    "### Test model loading and prediction"
   ]
  },
  {
   "cell_type": "code",
   "execution_count": 5,
   "metadata": {},
   "outputs": [
    {
     "name": "stdout",
     "output_type": "stream",
     "text": [
      "Loading from ../models/\n",
      "\n",
      ">Where to go to school.\n"
     ]
    },
    {
     "data": {
      "text/html": [
       "<div>\n",
       "<style scoped>\n",
       "    .dataframe tbody tr th:only-of-type {\n",
       "        vertical-align: middle;\n",
       "    }\n",
       "\n",
       "    .dataframe tbody tr th {\n",
       "        vertical-align: top;\n",
       "    }\n",
       "\n",
       "    .dataframe thead th {\n",
       "        text-align: right;\n",
       "    }\n",
       "</style>\n",
       "<table border=\"1\" class=\"dataframe\">\n",
       "  <thead>\n",
       "    <tr style=\"text-align: right;\">\n",
       "      <th></th>\n",
       "      <th>Probability</th>\n",
       "    </tr>\n",
       "  </thead>\n",
       "  <tbody>\n",
       "    <tr>\n",
       "      <th>Education &amp; Reference</th>\n",
       "      <td>83.057827</td>\n",
       "    </tr>\n",
       "    <tr>\n",
       "      <th>Sports</th>\n",
       "      <td>16.575634</td>\n",
       "    </tr>\n",
       "    <tr>\n",
       "      <th>Business &amp; Finance</th>\n",
       "      <td>0.297126</td>\n",
       "    </tr>\n",
       "    <tr>\n",
       "      <th>Entertainment &amp; Music</th>\n",
       "      <td>0.062902</td>\n",
       "    </tr>\n",
       "    <tr>\n",
       "      <th>Computers &amp; Internet</th>\n",
       "      <td>0.002717</td>\n",
       "    </tr>\n",
       "    <tr>\n",
       "      <th>Health</th>\n",
       "      <td>0.001683</td>\n",
       "    </tr>\n",
       "    <tr>\n",
       "      <th>Society &amp; Culture</th>\n",
       "      <td>0.001140</td>\n",
       "    </tr>\n",
       "    <tr>\n",
       "      <th>Science &amp; Mathematics</th>\n",
       "      <td>0.000558</td>\n",
       "    </tr>\n",
       "    <tr>\n",
       "      <th>Politics &amp; Government</th>\n",
       "      <td>0.000292</td>\n",
       "    </tr>\n",
       "    <tr>\n",
       "      <th>Family &amp; Relationships</th>\n",
       "      <td>0.000131</td>\n",
       "    </tr>\n",
       "  </tbody>\n",
       "</table>\n",
       "</div>"
      ],
      "text/plain": [
       "                        Probability\n",
       "Education & Reference     83.057827\n",
       "Sports                    16.575634\n",
       "Business & Finance         0.297126\n",
       "Entertainment & Music      0.062902\n",
       "Computers & Internet       0.002717\n",
       "Health                     0.001683\n",
       "Society & Culture          0.001140\n",
       "Science & Mathematics      0.000558\n",
       "Politics & Government      0.000292\n",
       "Family & Relationships     0.000131"
      ]
     },
     "execution_count": 5,
     "metadata": {},
     "output_type": "execute_result"
    }
   ],
   "source": [
    "import pandas as pd\n",
    "from src.models.predict_model import load,predict\n",
    "nlp=load(model_dir=\"../models/\")\n",
    "query,cats = predict_model.predict(\"Where to go to school.\",nlp=nlp)\n",
    "print(\"\\n>\"+query)\n",
    "pd.Series(cats,name=\"Probability\").sort_values(ascending=False).to_frame()*100"
   ]
  },
  {
   "cell_type": "markdown",
   "metadata": {},
   "source": [
    "### Evaluate model performance"
   ]
  },
  {
   "cell_type": "code",
   "execution_count": 21,
   "metadata": {},
   "outputs": [
    {
     "data": {
      "text/plain": [
       "{'textcat_p': 0.36585365849196905,\n",
       " 'textcat_r': 0.29999999997,\n",
       " 'textcat_f': 0.32967032963410214}"
      ]
     },
     "execution_count": 21,
     "metadata": {},
     "output_type": "execute_result"
    }
   ],
   "source": [
    "from src.models.train_model import evaluate\n",
    "dev_texts, dev_cats = valid_data\n",
    "n=100\n",
    "scores = evaluate(nlp.tokenizer, nlp.get_pipe(\"textcat\"), dev_texts[:n], dev_cats[:n])\n",
    "scores"
   ]
  },
  {
   "cell_type": "markdown",
   "metadata": {},
   "source": [
    "Build the confusion matrix and adapt performance metrics for multiclass classification."
   ]
  },
  {
   "cell_type": "code",
   "execution_count": 70,
   "metadata": {
    "tags": [
     "outputPrepend"
    ]
   },
   "outputs": [
    {
     "name": "stdout",
     "output_type": "stream",
     "text": [
      "[[4. 1. 0. 0. 0. 1. 1. 0. 0. 0.]\n",
      " [4. 2. 3. 1. 0. 0. 1. 0. 2. 0.]\n",
      " [2. 2. 2. 2. 2. 0. 0. 1. 3. 0.]\n",
      " [2. 1. 1. 2. 0. 2. 0. 0. 0. 1.]\n",
      " [0. 2. 0. 0. 6. 0. 1. 0. 0. 0.]\n",
      " [0. 0. 1. 0. 0. 4. 1. 0. 2. 3.]\n",
      " [1. 0. 0. 1. 0. 0. 3. 1. 0. 2.]\n",
      " [3. 0. 1. 0. 0. 2. 0. 0. 2. 0.]\n",
      " [1. 0. 1. 0. 1. 1. 1. 0. 6. 0.]\n",
      " [1. 1. 0. 1. 1. 0. 0. 0. 1. 5.]]\n"
     ]
    },
    {
     "data": {
      "text/plain": [
       "(0.3156926406926407, 0.3541111666111666)"
      ]
     },
     "execution_count": 70,
     "metadata": {},
     "output_type": "execute_result"
    }
   ],
   "source": [
    "import numpy as np\n",
    "docs = (nlp.tokenizer(text) for text in dev_texts[:n])\n",
    "\n",
    "confusion_matrix=np.zeros([len(classes),len(classes)])\n",
    "for i, doc in enumerate(nlp.get_pipe(\"textcat\").pipe(docs)):\n",
    "    gold = dev_cats[:n][i]\n",
    "    g=pd.Series(gold,name=\"gold\").argmax()\n",
    "    a=pd.Series(doc.cats,name=\"assigned\").argmax()\n",
    "    confusion_matrix[g,a]+=1\n",
    "print(confusion_matrix)\n",
    "precisions = confusion_matrix.diagonal()/confusion_matrix.sum(axis=0)\n",
    "recalls = confusion_matrix.diagonal()/confusion_matrix.sum(axis=1)\n",
    "precisions.mean(),recalls.mean()"
   ]
  },
  {
   "cell_type": "code",
   "execution_count": null,
   "metadata": {},
   "outputs": [],
   "source": []
  }
 ],
 "metadata": {
  "kernelspec": {
   "display_name": "Python 3.7.7 64-bit ('spacy': conda)",
   "language": "python",
   "name": "python37764bitspacycondadadf2b73d41940a8a7f37c607b76324d"
  },
  "language_info": {
   "codemirror_mode": {
    "name": "ipython",
    "version": 3
   },
   "file_extension": ".py",
   "mimetype": "text/x-python",
   "name": "python",
   "nbconvert_exporter": "python",
   "pygments_lexer": "ipython3",
   "version": "3.7.7"
  }
 },
 "nbformat": 4,
 "nbformat_minor": 2
}
