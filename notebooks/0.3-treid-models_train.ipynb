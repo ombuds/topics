{
 "cells": [
  {
   "cell_type": "markdown",
   "metadata": {},
   "source": [
    "# Train and save text classification model\n",
    "\n",
    "### Import modules"
   ]
  },
  {
   "cell_type": "code",
   "execution_count": 1,
   "metadata": {},
   "outputs": [],
   "source": [
    "import src.data.make_dataset as make_dataset\n",
    "import logging\n",
    "\n",
    "logger = logging.getLogger()\n",
    "logger.setLevel(logging.INFO)"
   ]
  },
  {
   "cell_type": "code",
   "execution_count": 6,
   "metadata": {},
   "outputs": [],
   "source": [
    "train_data, valid_data, classes = make_dataset.load_processed(\"../data/processed/\")"
   ]
  },
  {
   "cell_type": "code",
   "execution_count": 2,
   "metadata": {},
   "outputs": [
    {
     "output_type": "stream",
     "name": "stderr",
     "text": "INFO:root:Number of training samples:    3543746\nINFO:root:Number of test     samples:     151860\nINFO:root:Completed data shuffling.\nINFO:root:Completed categories list.\n"
    }
   ],
   "source": [
    "train_data, valid_data, classes = make_dataset.load_data(\"../data/raw/\")"
   ]
  },
  {
   "cell_type": "code",
   "execution_count": null,
   "metadata": {},
   "outputs": [],
   "source": []
  },
  {
   "cell_type": "code",
   "execution_count": 7,
   "metadata": {},
   "outputs": [
    {
     "output_type": "execute_result",
     "data": {
      "text/plain": "'Hypocalcimia after thydroidectomy - Want new management?'"
     },
     "metadata": {},
     "execution_count": 7
    }
   ],
   "source": [
    "train_data[0][15431]"
   ]
  },
  {
   "cell_type": "code",
   "execution_count": 9,
   "metadata": {},
   "outputs": [],
   "source": [
    "import src.models.train_model as train_model\n"
   ]
  },
  {
   "cell_type": "code",
   "execution_count": 11,
   "metadata": {},
   "outputs": [
    {
     "output_type": "stream",
     "name": "stdout",
     "text": "Loading Yahoo! Q&A data...\nLoaded model 'en_core_web_sm'\nUsing 2000 examples (2000 training, 5000 evaluation)\nTraining the model...\nLOSS \t  P  \t  R  \t  F  \n20.005\t0.545\t0.020\t0.039\n5.555\t0.538\t0.044\t0.082\n1.986\t0.459\t0.108\t0.175\n0.736\t0.420\t0.172\t0.245\n0.306\t0.408\t0.220\t0.286\n0.143\t0.391\t0.247\t0.303\n0.071\t0.381\t0.265\t0.313\n0.045\t0.370\t0.273\t0.314\n0.021\t0.364\t0.281\t0.317\n0.011\t0.359\t0.285\t0.318\n0.007\t0.355\t0.289\t0.319\n0.005\t0.353\t0.295\t0.321\n0.003\t0.351\t0.296\t0.321\n0.005\t0.349\t0.299\t0.322\n0.002\t0.345\t0.297\t0.319\n0.002\t0.345\t0.301\t0.321\n0.002\t0.347\t0.305\t0.324\n0.002\t0.349\t0.308\t0.327\n0.001\t0.348\t0.309\t0.327\n0.001\t0.343\t0.305\t0.323\nThis movie sucked {'Society & Culture': 3.4277999105825074e-08, 'Science & Mathematics': 1.4359703476209823e-13, 'Health': 7.139125401955937e-11, 'Education & Reference': 4.144410979324716e-16, 'Computers & Internet': 1.8301327120440192e-10, 'Sports': 5.0861096584364773e-11, 'Business & Finance': 4.719486696558306e-06, 'Entertainment & Music': 0.9999929666519165, 'Family & Relationships': 2.2800886654295027e-06, 'Politics & Government': 1.884132433405128e-11}\nSaved model to models\nLoading from models\nThis movie sucked {'Society & Culture': 4.272363796076206e-08, 'Science & Mathematics': 2.753545872216656e-12, 'Health': 2.725681902404631e-10, 'Education & Reference': 1.0480735067796773e-14, 'Computers & Internet': 1.5108367890093177e-09, 'Sports': 1.1444756253808919e-08, 'Business & Finance': 0.00015294650802388787, 'Entertainment & Music': 0.9998378753662109, 'Family & Relationships': 9.169852091872599e-06, 'Politics & Government': 6.745210640035637e-11}\n"
    }
   ],
   "source": [
    "train_model.train(train_data, valid_data, classes)"
   ]
  },
  {
   "cell_type": "code",
   "execution_count": 12,
   "metadata": {},
   "outputs": [
    {
     "output_type": "stream",
     "name": "stdout",
     "text": "Loading from ../models/\nWhere to go to school. {'Society & Culture': 1.1396258742024656e-05, 'Science & Mathematics': 5.580629476753529e-06, 'Health': 1.683458140178118e-05, 'Education & Reference': 0.8305782675743103, 'Computers & Internet': 2.7173664420843124e-05, 'Sports': 0.16575634479522705, 'Business & Finance': 0.0029712594114243984, 'Entertainment & Music': 0.0006290159071795642, 'Family & Relationships': 1.3134732625985635e-06, 'Politics & Government': 2.9151601665944327e-06}\n"
    }
   ],
   "source": [
    "import src.models.predict_model as predict_model\n",
    "predict_model.predict(\"Where to go to school.\",model_dir=\"../models/\")"
   ]
  },
  {
   "cell_type": "code",
   "execution_count": null,
   "metadata": {},
   "outputs": [],
   "source": []
  }
 ],
 "metadata": {
  "language_info": {
   "codemirror_mode": {
    "name": "ipython",
    "version": 3
   },
   "file_extension": ".py",
   "mimetype": "text/x-python",
   "name": "python",
   "nbconvert_exporter": "python",
   "pygments_lexer": "ipython3",
   "version": "3.7.7-final"
  },
  "orig_nbformat": 2,
  "kernelspec": {
   "name": "python37764bitspacycondadadf2b73d41940a8a7f37c607b76324d",
   "display_name": "Python 3.7.7 64-bit ('spacy': conda)"
  }
 },
 "nbformat": 4,
 "nbformat_minor": 2
}