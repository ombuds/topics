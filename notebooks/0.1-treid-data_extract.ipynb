{
 "cells": [
  {
   "cell_type": "markdown",
   "metadata": {},
   "source": [
    "# Data exploration\n",
    "\n",
    "This notebook presents the steps for fetching, loading, and exploring the Yahoo! Question-Answers dataset.\n",
    "\n",
    "## Import modules\n",
    "\n",
    "Modules are required to manipulate and verify data files, load the data (pandas), and for visualization (matplotlib)."
   ]
  },
  {
   "cell_type": "code",
   "execution_count": 1,
   "metadata": {},
   "outputs": [],
   "source": [
    "import os\n",
    "import hashlib\n",
    "import tarfile\n",
    "import pandas as pd\n",
    "import matplotlib.pyplot as plt\n",
    "from IPython.display import Markdown, display\n",
    "\n",
    "%matplotlib inline"
   ]
  },
  {
   "cell_type": "markdown",
   "metadata": {},
   "source": [
    "## Constants\n",
    "\n",
    "Assign path to dataset and expected file hash."
   ]
  },
  {
   "cell_type": "code",
   "execution_count": 2,
   "metadata": {},
   "outputs": [],
   "source": [
    "data_raw_md5sum = \"f3f9899b997a42beb24157e62e3eea8d\"\n",
    "data_raw_path = os.path.abspath('../data/raw') + os.path.sep + \"yahoo_answers_csv.tar.gz\""
   ]
  },
  {
   "cell_type": "markdown",
   "metadata": {},
   "source": [
    "## Verify Dataset\n",
    "\n",
    "Compare dataset hash calculated with md5sum to avoid errors from data corruption."
   ]
  },
  {
   "cell_type": "code",
   "execution_count": 3,
   "metadata": {},
   "outputs": [
    {
     "name": "stdout",
     "output_type": "stream",
     "text": [
      "Dataset integrity check successful.\n"
     ]
    }
   ],
   "source": [
    "# Compare md5sum to avoid data corruption\n",
    "# TODO : update with latest dataset\n",
    "def check_data(path,datahash):\n",
    "    # TODO: replace with chunk-based hash to reduce memory requirements.\n",
    "    def checksum(file):\n",
    "        def file_as_bytes(file):\n",
    "            with file:\n",
    "                return file.read()\n",
    "        # Return md5 hash from file fully loaded in memory\n",
    "        return hashlib.md5( file_as_bytes( open(file, 'rb') ) ).hexdigest()\n",
    "    # Compare current datahash to reference hash to avoid data corruption\n",
    "    if datahash == checksum(path):\n",
    "        print('Dataset integrity check successful.')\n",
    "    else:\n",
    "        raise ValueError('Raw datafile checksum doesnt match original dataset. Download again yahoo_answers_csv.tar.gz into topics/data/raw.')\n",
    "        \n",
    "# Verify dataset integrity\n",
    "check_data(data_raw_path,data_raw_md5sum)"
   ]
  },
  {
   "cell_type": "markdown",
   "metadata": {},
   "source": [
    "# Load dataset\n",
    "\n",
    "Three dataframes are extracted from the dataset:\n",
    "\n",
    "Dataframe | Description \n",
    ":----------|:-------------\n",
    "`df_train`  | Training set containing classes ids, titles, question text, answers. \n",
    "`df_test`   | Test set containing classes, titles, question text, answers.     \n",
    "`df_class`  | List of classes for classes ids mappping.                                                 "
   ]
  },
  {
   "cell_type": "code",
   "execution_count": 4,
   "metadata": {},
   "outputs": [],
   "source": [
    "# Open dataset tar file\n",
    "with tarfile.open(data_raw_path, \"r:*\") as tar:\n",
    "    df_train = pd.read_csv(tar.extractfile('yahoo_answers_csv/train.csv'),names=['classid','title','qtext','answer'], sep=\",\")\n",
    "    df_test  = pd.read_csv(tar.extractfile('yahoo_answers_csv/test.csv'),names=['classid','title','qtext','answer'], sep=\",\")\n",
    "    df_classes = pd.read_csv(tar.extractfile('yahoo_answers_csv/classes.txt'), names=['class'], sep=\",\")\n",
    "\n",
    "#Readily merge the class names with the class IDs to ease data exploration.\n",
    "df_classes['classid']=df_classes.index.values+1\n",
    "df_train = df_train.merge(df_classes,on='classid')\n",
    "df_test  = df_test.merge(df_classes,on='classid')\n",
    "\n",
    "pass"
   ]
  },
  {
   "cell_type": "code",
   "execution_count": 5,
   "metadata": {},
   "outputs": [
    {
     "name": "stdout",
     "output_type": "stream",
     "text": [
      "Number of classes: 20\n",
      "Training samples (Q/T/A): 7000000\n",
      "Test samples (Q/T/A): 300000\n"
     ]
    }
   ],
   "source": [
    "# Show some statistics\n",
    "print(f\"Number of classes: {df_classes.size}\")\n",
    "print(f\"Training samples (Q/T/A): {df_train.size}\")\n",
    "print(f\"Test samples (Q/T/A): {df_test.size}\")"
   ]
  },
  {
   "cell_type": "markdown",
   "metadata": {},
   "source": [
    "## Start with the basics: show some samples\n",
    "\n",
    "First, show some samples of text to see where we're going. Some things stand out:\n",
    " - Text samples mostly show colloquial formulation and syntax.\n",
    " - Samples contain abbreviations, web pages, and repeated accentuations.\n",
    " - There are empty question text records."
   ]
  },
  {
   "cell_type": "code",
   "execution_count": 5,
   "metadata": {
    "scrolled": true
   },
   "outputs": [
    {
     "data": {
      "text/html": [
       "<div>\n",
       "<style scoped>\n",
       "    .dataframe tbody tr th:only-of-type {\n",
       "        vertical-align: middle;\n",
       "    }\n",
       "\n",
       "    .dataframe tbody tr th {\n",
       "        vertical-align: top;\n",
       "    }\n",
       "\n",
       "    .dataframe thead th {\n",
       "        text-align: right;\n",
       "    }\n",
       "</style>\n",
       "<table border=\"1\" class=\"dataframe\">\n",
       "  <thead>\n",
       "    <tr style=\"text-align: right;\">\n",
       "      <th></th>\n",
       "      <th>classid</th>\n",
       "      <th>title</th>\n",
       "      <th>qtext</th>\n",
       "      <th>answer</th>\n",
       "    </tr>\n",
       "    <tr>\n",
       "      <th>class</th>\n",
       "      <th></th>\n",
       "      <th></th>\n",
       "      <th></th>\n",
       "      <th></th>\n",
       "    </tr>\n",
       "  </thead>\n",
       "  <tbody>\n",
       "    <tr>\n",
       "      <th>Business &amp; Finance</th>\n",
       "      <td>7</td>\n",
       "      <td>i have 40,000 pakistani rupees, how can i get ...</td>\n",
       "      <td>l worry about almost every thing around me whi...</td>\n",
       "      <td>Buy Euros...or another currency that will move...</td>\n",
       "    </tr>\n",
       "    <tr>\n",
       "      <th>Computers &amp; Internet</th>\n",
       "      <td>5</td>\n",
       "      <td>alt powerbuilder datawindow how?</td>\n",
       "      <td>The LINKSYS wireless G router with 54mbps(what...</td>\n",
       "      <td>In powerbuilder you already have the datawindo...</td>\n",
       "    </tr>\n",
       "    <tr>\n",
       "      <th>Education &amp; Reference</th>\n",
       "      <td>4</td>\n",
       "      <td>how do i use a Lensatic Marching Compass?</td>\n",
       "      <td>What are the institutes offereing training for...</td>\n",
       "      <td>Pictures of a Lensatic Marching Compass\\nhttp:...</td>\n",
       "    </tr>\n",
       "    <tr>\n",
       "      <th>Entertainment &amp; Music</th>\n",
       "      <td>8</td>\n",
       "      <td>Can there ever be enough questions about poopy?</td>\n",
       "      <td>I work on a psychic line for a living. Everyth...</td>\n",
       "      <td>Yes, there can be too many.</td>\n",
       "    </tr>\n",
       "    <tr>\n",
       "      <th>Family &amp; Relationships</th>\n",
       "      <td>9</td>\n",
       "      <td>What would you do if the love of your life mov...</td>\n",
       "      <td>He was the best thing ever and I never got to ...</td>\n",
       "      <td>Then tell him, distance relationships can and ...</td>\n",
       "    </tr>\n",
       "    <tr>\n",
       "      <th>Health</th>\n",
       "      <td>3</td>\n",
       "      <td>Do you still grow even you're 18?</td>\n",
       "      <td>how to help a friend, a former drug addict to ...</td>\n",
       "      <td>Yes, for a male, it won't stop until you're 21...</td>\n",
       "    </tr>\n",
       "    <tr>\n",
       "      <th>Politics &amp; Government</th>\n",
       "      <td>10</td>\n",
       "      <td>How can I get a duplicate copy of my Tarrant C...</td>\n",
       "      <td>I have paid it and have the cancelled check bu...</td>\n",
       "      <td>Simply write to Tarrant County, and ask for a ...</td>\n",
       "    </tr>\n",
       "    <tr>\n",
       "      <th>Science &amp; Mathematics</th>\n",
       "      <td>2</td>\n",
       "      <td>What type of living thing is a kaka beak found...</td>\n",
       "      <td>He was at the Pottsdam meeting with churchill ...</td>\n",
       "      <td>It's a plant, the name refers to the flowers t...</td>\n",
       "    </tr>\n",
       "    <tr>\n",
       "      <th>Society &amp; Culture</th>\n",
       "      <td>1</td>\n",
       "      <td>14 year-olds ONLY... What is the most importan...</td>\n",
       "      <td>The reason why I'm asking 14 year-olds only is...</td>\n",
       "      <td>i think about my boyfriend, my family, music, ...</td>\n",
       "    </tr>\n",
       "    <tr>\n",
       "      <th>Sports</th>\n",
       "      <td>6</td>\n",
       "      <td>where is the hitter cage in Calgary?</td>\n",
       "      <td>where is the hitter cage for baseball in Calgary?</td>\n",
       "      <td>right off of hwy 433</td>\n",
       "    </tr>\n",
       "  </tbody>\n",
       "</table>\n",
       "</div>"
      ],
      "text/plain": [
       "                        classid  \\\n",
       "class                             \n",
       "Business & Finance            7   \n",
       "Computers & Internet          5   \n",
       "Education & Reference         4   \n",
       "Entertainment & Music         8   \n",
       "Family & Relationships        9   \n",
       "Health                        3   \n",
       "Politics & Government        10   \n",
       "Science & Mathematics         2   \n",
       "Society & Culture             1   \n",
       "Sports                        6   \n",
       "\n",
       "                                                                    title  \\\n",
       "class                                                                       \n",
       "Business & Finance      i have 40,000 pakistani rupees, how can i get ...   \n",
       "Computers & Internet                     alt powerbuilder datawindow how?   \n",
       "Education & Reference           how do i use a Lensatic Marching Compass?   \n",
       "Entertainment & Music     Can there ever be enough questions about poopy?   \n",
       "Family & Relationships  What would you do if the love of your life mov...   \n",
       "Health                                  Do you still grow even you're 18?   \n",
       "Politics & Government   How can I get a duplicate copy of my Tarrant C...   \n",
       "Science & Mathematics   What type of living thing is a kaka beak found...   \n",
       "Society & Culture       14 year-olds ONLY... What is the most importan...   \n",
       "Sports                               where is the hitter cage in Calgary?   \n",
       "\n",
       "                                                                    qtext  \\\n",
       "class                                                                       \n",
       "Business & Finance      l worry about almost every thing around me whi...   \n",
       "Computers & Internet    The LINKSYS wireless G router with 54mbps(what...   \n",
       "Education & Reference   What are the institutes offereing training for...   \n",
       "Entertainment & Music   I work on a psychic line for a living. Everyth...   \n",
       "Family & Relationships  He was the best thing ever and I never got to ...   \n",
       "Health                  how to help a friend, a former drug addict to ...   \n",
       "Politics & Government   I have paid it and have the cancelled check bu...   \n",
       "Science & Mathematics   He was at the Pottsdam meeting with churchill ...   \n",
       "Society & Culture       The reason why I'm asking 14 year-olds only is...   \n",
       "Sports                  where is the hitter cage for baseball in Calgary?   \n",
       "\n",
       "                                                                   answer  \n",
       "class                                                                      \n",
       "Business & Finance      Buy Euros...or another currency that will move...  \n",
       "Computers & Internet    In powerbuilder you already have the datawindo...  \n",
       "Education & Reference   Pictures of a Lensatic Marching Compass\\nhttp:...  \n",
       "Entertainment & Music                         Yes, there can be too many.  \n",
       "Family & Relationships  Then tell him, distance relationships can and ...  \n",
       "Health                  Yes, for a male, it won't stop until you're 21...  \n",
       "Politics & Government   Simply write to Tarrant County, and ask for a ...  \n",
       "Science & Mathematics   It's a plant, the name refers to the flowers t...  \n",
       "Society & Culture       i think about my boyfriend, my family, music, ...  \n",
       "Sports                                               right off of hwy 433  "
      ]
     },
     "execution_count": 5,
     "metadata": {},
     "output_type": "execute_result"
    }
   ],
   "source": [
    "df_train.sample(frac=1).groupby('class').first()"
   ]
  },
  {
   "cell_type": "markdown",
   "metadata": {},
   "source": [
    "## Further exploration\n",
    "\n",
    "Explanations for the following text exploration methods can be found here: https://towardsdatascience.com/exploratory-data-analysis-for-natural-language-processing-ff0046ab3571.\n",
    "\n",
    "### Compare Text Length\n",
    "Text fields statistics shows titles are short, around 40 characters, and span to up to 120 characters. Question text spans to 1000 characters and answers up to 4000 characters, however shorter texts are more frequent. The training and test distribution are similar."
   ]
  },
  {
   "cell_type": "code",
   "execution_count": 6,
   "metadata": {
    "scrolled": true
   },
   "outputs": [
    {
     "data": {
      "text/markdown": [
       "## Text Length"
      ],
      "text/plain": [
       "<IPython.core.display.Markdown object>"
      ]
     },
     "metadata": {},
     "output_type": "display_data"
    },
    {
     "data": {
      "text/markdown": [
       "### Training data distribution"
      ],
      "text/plain": [
       "<IPython.core.display.Markdown object>"
      ]
     },
     "metadata": {},
     "output_type": "display_data"
    },
    {
     "data": {
      "image/png": "[encoded data removed]",
      "text/plain": [
       "<Figure size 1080x288 with 3 Axes>"
      ]
     },
     "metadata": {
      "needs_background": "light"
     },
     "output_type": "display_data"
    },
    {
     "data": {
      "text/markdown": [
       "### Test data distribution"
      ],
      "text/plain": [
       "<IPython.core.display.Markdown object>"
      ]
     },
     "metadata": {},
     "output_type": "display_data"
    },
    {
     "data": {
      "image/png": "[encoded data removed]",
      "text/plain": [
       "<Figure size 1080x288 with 3 Axes>"
      ]
     },
     "metadata": {
      "needs_background": "light"
     },
     "output_type": "display_data"
    }
   ],
   "source": [
    "# Include markdown in figures to increase readability\n",
    "display(Markdown(\"## Text Length\"))\n",
    "display(Markdown(\"### Training data distribution\"))\n",
    "# Training set figures\n",
    "fig, axes = plt.subplots(1, 3,figsize=(15,4))\n",
    "df_train['title'].str.len().to_frame().hist(\"title\", bins=range(120), ax=axes[0])\n",
    "df_train['qtext'].str.len().to_frame().hist(\"qtext\", bins=100, ax=axes[1])\n",
    "df_train['answer'].str.len().to_frame().hist(\"answer\", bins=100, ax=axes[2])\n",
    "plt.show()\n",
    "# Test set figures\n",
    "display(Markdown(\"### Test data distribution\"))\n",
    "fig, axes = plt.subplots(1, 3,figsize=(15,4))\n",
    "df_test['title'].str.len().to_frame().hist(\"title\", bins=range(120), ax=axes[0])\n",
    "df_test['qtext'].str.len().to_frame().hist(\"qtext\", bins=100, ax=axes[1])\n",
    "df_test['answer'].str.len().to_frame().hist(\"answer\", bins=100, ax=axes[2])\n",
    "pass"
   ]
  },
  {
   "cell_type": "markdown",
   "metadata": {},
   "source": [
    "### Compare Sequences Length\n",
    "\n",
    "Naive sentence split show sequences length of up to 25 words for titles, up to 200 words for question text and up to 300-400 words for answers. *This allow to set an appropriate limit for the languange model sequences, or to select a pre-trained model appropriate for this length.*"
   ]
  },
  {
   "cell_type": "code",
   "execution_count": 11,
   "metadata": {},
   "outputs": [
    {
     "data": {
      "text/markdown": [
       "## Number of words"
      ],
      "text/plain": [
       "<IPython.core.display.Markdown object>"
      ]
     },
     "metadata": {},
     "output_type": "display_data"
    },
    {
     "data": {
      "text/markdown": [
       "### Training data distribution"
      ],
      "text/plain": [
       "<IPython.core.display.Markdown object>"
      ]
     },
     "metadata": {},
     "output_type": "display_data"
    },
    {
     "data": {
      "image/png": "[encoded data removed]",
      "text/plain": [
       "<Figure size 1080x288 with 3 Axes>"
      ]
     },
     "metadata": {
      "needs_background": "light"
     },
     "output_type": "display_data"
    },
    {
     "data": {
      "text/markdown": [
       "### Test data distribution"
      ],
      "text/plain": [
       "<IPython.core.display.Markdown object>"
      ]
     },
     "metadata": {},
     "output_type": "display_data"
    },
    {
     "data": {
      "image/png": "[encoded data removed]",
      "text/plain": [
       "<Figure size 1080x288 with 3 Axes>"
      ]
     },
     "metadata": {
      "needs_background": "light"
     },
     "output_type": "display_data"
    }
   ],
   "source": [
    "import numpy as np\n",
    "# Include markdown in figures to increase readability\n",
    "display(Markdown(\"## Number of words\"))\n",
    "# Training set figures\n",
    "def show_words_lengths(df):\n",
    "    fig, axes = plt.subplots(1, 3,figsize=(15,4))\n",
    "    axes[0].set_yscale('log')\n",
    "    df['title'].str.split().\\\n",
    "       apply(lambda x : len(x)). \\\n",
    "       to_frame().hist('title',bins=20,ax=axes[0])\n",
    "    axes[1].set_yscale('log')\n",
    "    df['qtext'].dropna().str.split().\\\n",
    "       apply(lambda x : len(x)). \\\n",
    "       to_frame().hist('qtext',bins=20,ax=axes[1])\n",
    "    axes[2].set_yscale('log')\n",
    "    df['answer'].dropna().str.split().\\\n",
    "       apply(lambda x : len(x)). \\\n",
    "       to_frame().hist('answer',bins=20,ax=axes[2])\n",
    "    plt.show()\n",
    "\n",
    "display(Markdown(\"### Training data distribution\"))\n",
    "show_words_lengths(df_train.sample(1000))\n",
    "display(Markdown(\"### Test data distribution\"))\n",
    "show_words_lengths(df_test.sample(1000))\n",
    "pass"
   ]
  },
  {
   "cell_type": "code",
   "execution_count": 8,
   "metadata": {},
   "outputs": [
    {
     "data": {
      "text/markdown": [
       "## Words Lengths"
      ],
      "text/plain": [
       "<IPython.core.display.Markdown object>"
      ]
     },
     "metadata": {},
     "output_type": "display_data"
    },
    {
     "data": {
      "text/markdown": [
       "### Training data distribution"
      ],
      "text/plain": [
       "<IPython.core.display.Markdown object>"
      ]
     },
     "metadata": {},
     "output_type": "display_data"
    },
    {
     "data": {
      "image/png": "[encoded data removed]",
      "text/plain": [
       "<Figure size 1080x288 with 3 Axes>"
      ]
     },
     "metadata": {
      "needs_background": "light"
     },
     "output_type": "display_data"
    },
    {
     "data": {
      "text/markdown": [
       "### Test data distribution"
      ],
      "text/plain": [
       "<IPython.core.display.Markdown object>"
      ]
     },
     "metadata": {},
     "output_type": "display_data"
    },
    {
     "data": {
      "image/png": "[encoded data removed]",
      "text/plain": [
       "<Figure size 1080x288 with 3 Axes>"
      ]
     },
     "metadata": {
      "needs_background": "light"
     },
     "output_type": "display_data"
    }
   ],
   "source": [
    "import numpy as np\n",
    "# Include markdown in figures to increase readability\n",
    "display(Markdown(\"## Words Lengths\"))\n",
    "# Training set figures\n",
    "def show_words_lengths(df):\n",
    "    fig, axes = plt.subplots(1, 3,figsize=(15,4))\n",
    "    axes[0].set_yscale('log')\n",
    "    df['title'].str.split().\\\n",
    "       apply(lambda x : [len(i) for i in x]). \\\n",
    "       map(lambda x: np.mean(x)).to_frame().hist('title',bins=100,ax=axes[0])\n",
    "    axes[1].set_yscale('log')\n",
    "    df['qtext'].dropna().str.split().\\\n",
    "       apply(lambda x : [len(i) for i in x]). \\\n",
    "       map(lambda x: np.mean(x)).to_frame().hist('qtext',bins=100,ax=axes[1])\n",
    "    axes[2].set_yscale('log')\n",
    "    df['answer'].dropna().str.split().\\\n",
    "       apply(lambda x : [len(i) for i in x]). \\\n",
    "       map(lambda x: np.mean(x)).to_frame().hist('answer',bins=100,ax=axes[2])\n",
    "    plt.show()\n",
    "\n",
    "display(Markdown(\"### Training data distribution\"))\n",
    "show_words_lengths(df_train.sample(1000))\n",
    "display(Markdown(\"### Test data distribution\"))\n",
    "show_words_lengths(df_test.sample(1000))\n",
    "pass"
   ]
  },
  {
   "cell_type": "code",
   "execution_count": 9,
   "metadata": {},
   "outputs": [
    {
     "name": "stderr",
     "output_type": "stream",
     "text": [
      "[nltk_data] Downloading package stopwords to\n",
      "[nltk_data]     C:\\Users\\Thomas\\AppData\\Roaming\\nltk_data...\n",
      "[nltk_data]   Package stopwords is already up-to-date!\n"
     ]
    },
    {
     "ename": "NameError",
     "evalue": "name 'stopwords' is not defined",
     "output_type": "error",
     "traceback": [
      "\u001b[1;31m---------------------------------------------------------------------------\u001b[0m",
      "\u001b[1;31mNameError\u001b[0m                                 Traceback (most recent call last)",
      "\u001b[1;32m<ipython-input-9-8433b7e2b576>\u001b[0m in \u001b[0;36m<module>\u001b[1;34m\u001b[0m\n\u001b[0;32m      1\u001b[0m \u001b[1;32mimport\u001b[0m \u001b[0mnltk\u001b[0m\u001b[1;33m\u001b[0m\u001b[1;33m\u001b[0m\u001b[0m\n\u001b[0;32m      2\u001b[0m \u001b[0mnltk\u001b[0m\u001b[1;33m.\u001b[0m\u001b[0mdownload\u001b[0m\u001b[1;33m(\u001b[0m\u001b[1;34m'stopwords'\u001b[0m\u001b[1;33m)\u001b[0m\u001b[1;33m\u001b[0m\u001b[1;33m\u001b[0m\u001b[0m\n\u001b[1;32m----> 3\u001b[1;33m \u001b[0mstop\u001b[0m\u001b[1;33m=\u001b[0m\u001b[0mset\u001b[0m\u001b[1;33m(\u001b[0m\u001b[0mstopwords\u001b[0m\u001b[1;33m.\u001b[0m\u001b[0mwords\u001b[0m\u001b[1;33m(\u001b[0m\u001b[1;34m'english'\u001b[0m\u001b[1;33m)\u001b[0m\u001b[1;33m)\u001b[0m\u001b[1;33m\u001b[0m\u001b[1;33m\u001b[0m\u001b[0m\n\u001b[0m",
      "\u001b[1;31mNameError\u001b[0m: name 'stopwords' is not defined"
     ]
    }
   ],
   "source": [
    "import nltk\n",
    "nltk.download('stopwords')\n",
    "stop=set(stopwords.words('english'))"
   ]
  },
  {
   "cell_type": "code",
   "execution_count": null,
   "metadata": {},
   "outputs": [],
   "source": [
    "corpus=[]\n",
    "new= news['headline_text'].str.split()\n",
    "new=new.values.tolist()\n",
    "corpus=[word for i in new for word in i]\n",
    "from collections import defaultdict\n",
    "dic=defaultdict(int)\n",
    "for word in corpus:\n",
    "    if word in stop:\n",
    "        dic[word]+=1"
   ]
  },
  {
   "cell_type": "code",
   "execution_count": null,
   "metadata": {},
   "outputs": [],
   "source": [
    "counter=Counter(corpus)\n",
    "most=counter.most_common()\n",
    "x, y= [], []\n",
    "for word,count in most[:40]:\n",
    "    if (word not in stop):\n",
    "        x.append(word)\n",
    "        y.append(count)\n",
    "        \n",
    "sns.barplot(x=y,y=x)"
   ]
  }
 ],
 "metadata": {
  "kernelspec": {
   "display_name": "Python [conda env:topics]",
   "language": "python",
   "name": "conda-env-topics-py"
  },
  "language_info": {
   "codemirror_mode": {
    "name": "ipython",
    "version": 3
   },
   "file_extension": ".py",
   "mimetype": "text/x-python",
   "name": "python",
   "nbconvert_exporter": "python",
   "pygments_lexer": "ipython3",
   "version": "3.7.7"
  }
 },
 "nbformat": 4,
 "nbformat_minor": 4
}